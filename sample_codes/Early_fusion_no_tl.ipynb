{
 "cells": [
  {
   "cell_type": "markdown",
   "source": [
    "### Early Fusion without TL ###\n",
    "\n",
    "In the first cell all the necessary packages are imported.\n",
    "OS packages is used to loop into directories and to handle the cuda visibility.\n",
    "tensorflow is the deep learning libray that includes also keras.\n",
    "Image is used to display the cnn architecture.\n",
    "CNNUtilities class includes methods that loads images, re-built predicted images.\n",
    "FusionWithoutTL includes the functions relates to create and instantiate CNNs"
   ],
   "metadata": {
    "collapsed": false
   }
  },
  {
   "cell_type": "code",
   "execution_count": null,
   "outputs": [],
   "source": [
    "import os\n",
    "import tensorflow as tf\n",
    "from IPython.display import Image\n",
    "from Utilities.utilities import CNNUtilities\n",
    "from Utilities.FusionWithoutTL import FusionFactory"
   ],
   "metadata": {
    "collapsed": false
   }
  },
  {
   "cell_type": "markdown",
   "source": [
    "configuration is a dictionary that includes variables such as image width, image height, etc."
   ],
   "metadata": {
    "collapsed": false
   }
  },
  {
   "cell_type": "code",
   "execution_count": null,
   "outputs": [],
   "source": [
    "configuration = {\n",
    "    \"VERBOSE\": False,\n",
    "    \"GPU\": False,\n",
    "    \"image_height\": 224,\n",
    "    \"image_width\": 224,\n",
    "    \"epochs\": 10\n",
    "}\n",
    "\n",
    "segmentation_index = [0, 1020, 1377, 240, 735, 2380]"
   ],
   "metadata": {
    "collapsed": false
   }
  },
  {
   "cell_type": "markdown",
   "source": [
    "The next cell is used to handle cuda visibility. Setting the configuration GPU to false in configuration, system switch to cpu"
   ],
   "metadata": {
    "collapsed": false
   }
  },
  {
   "cell_type": "code",
   "execution_count": null,
   "metadata": {
    "collapsed": false
   },
   "outputs": [],
   "source": [
    "print(f'[CONFIGURATION] Actual configuration {configuration}')\n",
    "\n",
    "if not configuration['GPU']:\n",
    "    os.environ[\"CUDA_VISIBLE_DEVICES\"] = \"-1\"\n",
    "else:\n",
    "    physical_devices = tf.config.experimental.list_physical_devices('GPU')\n",
    "    assert len(physical_devices) > 0, \"Not enough GPU hardware devices available\"\n",
    "    for i in range(len(physical_devices)):\n",
    "        tf.config.experimental.set_memory_growth(physical_devices[i], True)"
   ]
  },
  {
   "cell_type": "markdown",
   "source": [
    "This cell utility object is created. The target height and the target width are instantiated as well."
   ],
   "metadata": {
    "collapsed": false
   }
  },
  {
   "cell_type": "code",
   "execution_count": null,
   "outputs": [],
   "source": [
    "# create utility instance\n",
    "utilities = CNNUtilities(configuration=configuration,\n",
    "                         segmentation_index_list=segmentation_index)\n",
    "\n",
    "# get height and width of the image\n",
    "h = configuration[\"image_height\"]\n",
    "w = configuration[\"image_width\"]\n",
    "\n",
    "# define the var for the final shape\n",
    "image_shape = (h, w)"
   ],
   "metadata": {
    "collapsed": false
   }
  },
  {
   "cell_type": "markdown",
   "source": [
    "Thanks to the utility object, now it is possible to call a methods that load:\n",
    "- RGB images (200 for train 100 for test and 66 for validation)\n",
    "- NIR images (200 for train 100 for test and 66 for validation)\n",
    "- Labels (200 for train 100 for test and 66 for validation) divided in 6 class\n",
    "\n",
    "Each of the called functions load two sets of numpy arrays with the following shape (number of samples, height of image, width of image and channel of the image)\n",
    "for the rgb images and the nir images. The labels contain the GT pixels' map.\n"
   ],
   "metadata": {
    "collapsed": false
   }
  },
  {
   "cell_type": "code",
   "execution_count": null,
   "outputs": [],
   "source": [
    "# first step load the datasets\n",
    "train_rgb, train_depth, train_labels = utilities.load_the_image_from_the_dataset_folder(path=\"../Dataset/train\",\n",
    "                                                                                        image_shape=image_shape)\n",
    "\n",
    "print(f\"[TRAIN] RGB {train_rgb.shape} NIR {train_depth.shape} LABEL {train_labels.shape}\")\n",
    "\n",
    "test_rgb, test_depth, test_labels = utilities.load_the_image_from_the_dataset_folder(path=\"../Dataset/test\",\n",
    "                                                                                     image_shape=image_shape)\n",
    "\n",
    "print(f\"[TEST] RGB {test_rgb.shape} NIR {test_depth.shape} LABEL {test_labels.shape}\")\n",
    "\n",
    "validation_rgb, validation_depth, validation_labels = utilities.load_the_image_from_the_dataset_folder(path=\"../Dataset/valid\",\n",
    "                                                                                                       image_shape=image_shape)\n",
    "\n",
    "print(f\"[VALIDATION] RGB {validation_rgb.shape} NIR {validation_depth.shape} LABEL {validation_labels.shape}\")"
   ],
   "metadata": {
    "collapsed": false
   }
  },
  {
   "cell_type": "markdown",
   "source": [
    "Here a dictionary with the necessary Hyper parameters for the CNN is created. They respectively contains:\n",
    "- the input shape of the rgb input and nir input\n",
    "- the kernel size for the rbg and nir convolution layers\n",
    "- A list of number of units of each convolution layer\n",
    "- the dropout value (None if not needed)\n",
    "- number of output class for softmax"
   ],
   "metadata": {
    "collapsed": false
   }
  },
  {
   "cell_type": "code",
   "execution_count": null,
   "outputs": [],
   "source": [
    "# create cnn config\n",
    "cnn_configuration = {\n",
    "    'shape_stream_rgb': train_rgb.shape[1:],\n",
    "    'kernel_size_stream_rgb': (train_rgb.shape[3], train_rgb.shape[3]),\n",
    "    'shape_stream_nir': train_depth.shape[1:],\n",
    "    'kernel_size_stream_nir': (train_depth.shape[3], train_depth.shape[3]),\n",
    "    'list_of_conv_layers': [128, 256],\n",
    "    \"dropout\": 0.2,\n",
    "    'number_of_classes': len(segmentation_index)\n",
    "    }\n",
    "\n",
    "print(f'[CNN CONFIGURATION] {cnn_configuration}')"
   ],
   "metadata": {
    "collapsed": false
   }
  },
  {
   "cell_type": "markdown",
   "source": [
    "Due to the multiples inputs of the CNN, the sets are prepared in dictionaries."
   ],
   "metadata": {
    "collapsed": false
   }
  },
  {
   "cell_type": "code",
   "execution_count": null,
   "outputs": [],
   "source": [
    "# prepare dicts of data\n",
    "# for train\n",
    "dictionary_of_training = {\n",
    "    'input_rgb': train_rgb,\n",
    "    'input_nir': train_depth\n",
    "}\n",
    "# for test\n",
    "dictionary_of_test = {\n",
    "    'input_rgb': test_rgb,\n",
    "    'input_nir': test_depth\n",
    "}\n",
    "# for validation\n",
    "dictionary_of_validation = {\n",
    "    'input_rgb': validation_rgb,\n",
    "    'input_nir': validation_depth\n",
    "}"
   ],
   "metadata": {
    "collapsed": false
   }
  },
  {
   "cell_type": "markdown",
   "source": [
    "The CNN handler object is instantiated with the dictionary of parameters created before.\n",
    "- In this case early fusion is called.\n",
    "- The network is compiled with SGD function\n",
    "- The loss function is categorical cross entropy"
   ],
   "metadata": {
    "collapsed": false
   }
  },
  {
   "cell_type": "code",
   "execution_count": null,
   "outputs": [],
   "source": [
    "# instance of the model\n",
    "cnn_handler = FusionFactory(**cnn_configuration)\n",
    "\n",
    "# create a late fusion\n",
    "cnn_handler.early_fusion()"
   ],
   "metadata": {
    "collapsed": false
   }
  },
  {
   "cell_type": "code",
   "execution_count": null,
   "outputs": [],
   "source": [
    "cnn_handler.plot_the_model(\"images/cnn_early_fusion.png\")\n",
    "Image('images/cnn_early_fusion.png')"
   ],
   "metadata": {
    "collapsed": false
   }
  },
  {
   "cell_type": "markdown",
   "source": [
    "The model is trained on the “train” dataset  and “validation” dataset for 10 epochs."
   ],
   "metadata": {
    "collapsed": false
   }
  },
  {
   "cell_type": "code",
   "execution_count": null,
   "outputs": [],
   "source": [
    "# fit the model\n",
    "cnn_handler.fit_the_model(x_train=dictionary_of_training,\n",
    "                          y_train=train_labels,\n",
    "                          x_validation=dictionary_of_validation,\n",
    "                          y_validation=validation_labels,\n",
    "                          epochs=configuration[\"epochs\"])\n"
   ],
   "metadata": {
    "collapsed": false
   }
  },
  {
   "cell_type": "markdown",
   "source": [
    "The model is evaluated on the test dataset."
   ],
   "metadata": {
    "collapsed": false
   }
  },
  {
   "cell_type": "code",
   "execution_count": null,
   "outputs": [],
   "source": [
    "# evaluate the model\n",
    "cnn_handler.evaluate_the_model(x_test=dictionary_of_test,\n",
    "                               y_test=test_labels)\n"
   ],
   "metadata": {
    "collapsed": false
   }
  },
  {
   "cell_type": "markdown",
   "source": [
    "The model make prediction with the test dataset that is not seen during the training phase."
   ],
   "metadata": {
    "collapsed": false
   }
  },
  {
   "cell_type": "code",
   "execution_count": null,
   "outputs": [],
   "source": [
    "# predict\n",
    "final_predictions = cnn_handler.make_predictions(x_test=dictionary_of_test)\n"
   ],
   "metadata": {
    "collapsed": false
   }
  },
  {
   "cell_type": "markdown",
   "source": [
    "The predicted array is converted to images."
   ],
   "metadata": {
    "collapsed": false
   }
  },
  {
   "cell_type": "code",
   "execution_count": null,
   "outputs": [],
   "source": [
    "# loop into the prediction arrays and rebuilt the image\n",
    "final_list_of_results = list()\n",
    "\n",
    "for predicted_index in range(final_predictions.shape[0]):\n",
    "    temp = utilities.convert_the_prediction(prediction=final_predictions[predicted_index, :, :],\n",
    "                                            number_of_classes=len(segmentation_index),\n",
    "                                            height_of_predicted_image=h,\n",
    "                                            width_of_pred_image=w)\n",
    "    # append the result to list\n",
    "    final_list_of_results.append(temp)\n"
   ],
   "metadata": {
    "collapsed": false
   }
  },
  {
   "cell_type": "markdown",
   "source": [
    "Show first nine images"
   ],
   "metadata": {
    "collapsed": false
   }
  },
  {
   "cell_type": "code",
   "execution_count": null,
   "outputs": [],
   "source": [
    "# now plot here the images\n",
    "utilities.plot_some_images(how_many_rows=3, how_many_cols=3, list_of_element_to_plot=final_list_of_results)"
   ],
   "metadata": {
    "collapsed": false
   }
  },
  {
   "cell_type": "code",
   "execution_count": null,
   "outputs": [],
   "source": [],
   "metadata": {
    "collapsed": false
   }
  }
 ],
 "metadata": {
  "kernelspec": {
   "display_name": "Python 3",
   "language": "python",
   "name": "python3"
  },
  "language_info": {
   "codemirror_mode": {
    "name": "ipython",
    "version": 3
   },
   "file_extension": ".py",
   "mimetype": "text/x-python",
   "name": "python",
   "nbconvert_exporter": "python",
   "pygments_lexer": "ipython3",
   "version": "3.11.3"
  }
 },
 "nbformat": 4,
 "nbformat_minor": 0
}
