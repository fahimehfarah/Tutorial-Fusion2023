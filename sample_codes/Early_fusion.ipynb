{
 "cells": [
  {
   "cell_type": "markdown",
   "source": [
    "### Early Fusion assignment ###\n",
    "\n",
    "In the first cell all the necessary packages are imported.\n",
    "OS packages is used to loop into directories and to handle the cuda visibility.\n",
    "tensorflow is the deep learning libray that includes also keras.\n",
    "Image is used to display the cnn architecture.\n",
    "CNNUtilities class includes methods that loads images, re-built predicted images.\n",
    "FusionWithVGG includes the functions relates to create and instantiate CNNs with VGG16 (Transfer learning is used here)"
   ],
   "metadata": {
    "collapsed": false
   }
  },
  {
   "cell_type": "code",
   "execution_count": 1,
   "outputs": [
    {
     "name": "stderr",
     "output_type": "stream",
     "text": [
      "2023-06-13 11:21:36.748175: I tensorflow/core/platform/cpu_feature_guard.cc:182] This TensorFlow binary is optimized to use available CPU instructions in performance-critical operations.\n",
      "To enable the following instructions: AVX2 FMA, in other operations, rebuild TensorFlow with the appropriate compiler flags.\n",
      "2023-06-13 11:21:37.323198: W tensorflow/compiler/tf2tensorrt/utils/py_utils.cc:38] TF-TRT Warning: Could not find TensorRT\n"
     ]
    }
   ],
   "source": [
    "import os\n",
    "import tensorflow as tf\n",
    "from IPython.display import Image\n",
    "from Utilities.utilities import CNNUtilities\n",
    "from Utilities.FusionWithTL import FusionWithVGG"
   ],
   "metadata": {
    "collapsed": false
   }
  },
  {
   "cell_type": "markdown",
   "source": [
    "configuration is a dictionary that includes variables such as image width, image height, etc."
   ],
   "metadata": {
    "collapsed": false
   }
  },
  {
   "cell_type": "code",
   "execution_count": 2,
   "outputs": [],
   "source": [
    "configuration = {\n",
    "    \"VERBOSE\": False,\n",
    "    \"GPU\": False,\n",
    "    \"image_height\": 224,\n",
    "    \"image_width\": 224,\n",
    "    \"epochs\": 10\n",
    "}\n",
    "\n",
    "segmentation_index = [0, 1020, 1377, 240, 735, 2380]"
   ],
   "metadata": {
    "collapsed": false
   }
  },
  {
   "cell_type": "markdown",
   "source": [
    "The next cell is used to handle cuda visibility. Setting the configuration GPU to false in configuration, system switch to cpu"
   ],
   "metadata": {
    "collapsed": false
   }
  },
  {
   "cell_type": "code",
   "execution_count": 3,
   "metadata": {
    "collapsed": false
   },
   "outputs": [
    {
     "name": "stdout",
     "output_type": "stream",
     "text": [
      "[CONFIGURATION] Actual configuration {'VERBOSE': False, 'GPU': False, 'image_height': 224, 'image_width': 224, 'epochs': 10}\n"
     ]
    }
   ],
   "source": [
    "print(f'[CONFIGURATION] Actual configuration {configuration}')\n",
    "\n",
    "if not configuration['GPU']:\n",
    "    os.environ[\"CUDA_VISIBLE_DEVICES\"] = \"-1\"\n",
    "else:\n",
    "    physical_devices = tf.config.experimental.list_physical_devices('GPU')\n",
    "    assert len(physical_devices) > 0, \"Not enough GPU hardware devices available\"\n",
    "    for i in range(len(physical_devices)):\n",
    "        tf.config.experimental.set_memory_growth(physical_devices[i], True)"
   ]
  },
  {
   "cell_type": "markdown",
   "source": [
    "This cell utility object is created. The target height and the target width are instantiated as well."
   ],
   "metadata": {
    "collapsed": false
   }
  },
  {
   "cell_type": "code",
   "execution_count": 4,
   "outputs": [],
   "source": [
    "# create utility instance\n",
    "utilities = CNNUtilities(configuration=configuration,\n",
    "                         segmentation_index_list=segmentation_index)\n",
    "\n",
    "# get height and width of the image\n",
    "h = configuration[\"image_height\"]\n",
    "w = configuration[\"image_width\"]\n",
    "\n",
    "# define the var for the final shape\n",
    "image_shape = (h, w)"
   ],
   "metadata": {
    "collapsed": false
   }
  },
  {
   "cell_type": "markdown",
   "source": [
    "Thanks to the utility object, now it is possible to call a methods that load:\n",
    "- RGB images (200 for train 100 for test and 66 for validation)\n",
    "- NIR images (200 for train 100 for test and 66 for validation)\n",
    "- Labels (200 for train 100 for test and 66 for validation) divided in 6 class\n",
    "\n",
    "Each of the called functions load two sets of numpy arrays with the following shape (number of samples, height of image, width of image and channel of the image)\n",
    "for the rgb images and the nir images. The labels contain the GT pixels' map.\n"
   ],
   "metadata": {
    "collapsed": false
   }
  },
  {
   "cell_type": "code",
   "execution_count": 5,
   "outputs": [
    {
     "name": "stdout",
     "output_type": "stream",
     "text": [
      "[TRAIN] RGB (200, 224, 224, 3) NIR (200, 224, 224, 3) LABEL (200, 50176, 6)\n",
      "[TEST] RGB (100, 224, 224, 3) NIR (100, 224, 224, 3) LABEL (100, 50176, 6)\n",
      "[VALIDATION] RGB (66, 224, 224, 3) NIR (66, 224, 224, 3) LABEL (66, 50176, 6)\n"
     ]
    }
   ],
   "source": [
    "# first step load the datasets\n",
    "train_rgb, train_depth, train_labels = utilities.load_the_image_from_the_dataset_folder(path=\"../Dataset/train\",\n",
    "                                                                                        image_shape=image_shape)\n",
    "\n",
    "print(f\"[TRAIN] RGB {train_rgb.shape} NIR {train_depth.shape} LABEL {train_labels.shape}\")\n",
    "\n",
    "test_rgb, test_depth, test_labels = utilities.load_the_image_from_the_dataset_folder(path=\"../Dataset/test\",\n",
    "                                                                                     image_shape=image_shape)\n",
    "\n",
    "print(f\"[TEST] RGB {test_rgb.shape} NIR {test_depth.shape} LABEL {test_labels.shape}\")\n",
    "\n",
    "validation_rgb, validation_depth, validation_labels = utilities.load_the_image_from_the_dataset_folder(path=\"../Dataset/valid\",\n",
    "                                                                                                       image_shape=image_shape)\n",
    "\n",
    "print(f\"[VALIDATION] RGB {validation_rgb.shape} NIR {validation_depth.shape} LABEL {validation_labels.shape}\")"
   ],
   "metadata": {
    "collapsed": false
   }
  },
  {
   "cell_type": "markdown",
   "source": [
    "Here a dictionary with the necessary Hyper parameters for the CNN is created. They respectively contains:\n",
    "- the input shape of the rgb input and nir input\n",
    "- the kernel size for the rbg and nir convolution layers\n",
    "- A list of number of units of each convolution layer\n",
    "- the dropout value (None if not needed)\n",
    "- number of output class for softmax"
   ],
   "metadata": {
    "collapsed": false
   }
  },
  {
   "cell_type": "code",
   "execution_count": 6,
   "outputs": [
    {
     "name": "stdout",
     "output_type": "stream",
     "text": [
      "[CNN CONFIGURATION] {'shape_stream_rgb': (224, 224, 3), 'kernel_size_stream_rgb': (3, 3), 'shape_stream_nir': (224, 224, 3), 'kernel_size_stream_nir': (3, 3), 'list_of_conv_layers': [128, 256], 'dropout': 0.2, 'number_of_classes': 6}\n"
     ]
    }
   ],
   "source": [
    "# create cnn config\n",
    "cnn_configuration = {\n",
    "    'shape_stream_rgb': train_rgb.shape[1:],\n",
    "    'kernel_size_stream_rgb': (train_rgb.shape[3], train_rgb.shape[3]),\n",
    "    'shape_stream_nir': train_depth.shape[1:],\n",
    "    'kernel_size_stream_nir': (train_depth.shape[3], train_depth.shape[3]),\n",
    "    'list_of_conv_layers': [128, 256],\n",
    "    \"dropout\": 0.2,\n",
    "    'number_of_classes': len(segmentation_index)\n",
    "    }\n",
    "\n",
    "print(f'[CNN CONFIGURATION] {cnn_configuration}')"
   ],
   "metadata": {
    "collapsed": false
   }
  },
  {
   "cell_type": "markdown",
   "source": [
    "Due to the multiples inputs of the CNN, the sets are prepared in dictionaries."
   ],
   "metadata": {
    "collapsed": false
   }
  },
  {
   "cell_type": "code",
   "execution_count": 7,
   "outputs": [],
   "source": [
    "# prepare dicts of data\n",
    "# for train\n",
    "dictionary_of_training = {\n",
    "    'input_rgb': train_rgb,\n",
    "    'input_nir': train_depth\n",
    "}\n",
    "# for test\n",
    "dictionary_of_test = {\n",
    "    'input_rgb': test_rgb,\n",
    "    'input_nir': test_depth\n",
    "}\n",
    "# for validation\n",
    "dictionary_of_validation = {\n",
    "    'input_rgb': validation_rgb,\n",
    "    'input_nir': validation_depth\n",
    "}"
   ],
   "metadata": {
    "collapsed": false
   }
  },
  {
   "cell_type": "markdown",
   "source": [
    "The CNN handler object is instantiated with the dictionary of parameters created before.\n",
    "- In this case early fusion is called.\n",
    "- The network is compiled with SGD function\n",
    "- The loss function is categorical cross entropy"
   ],
   "metadata": {
    "collapsed": false
   }
  },
  {
   "cell_type": "code",
   "execution_count": 8,
   "outputs": [
    {
     "name": "stderr",
     "output_type": "stream",
     "text": [
      "/home/luca/anaconda3/envs/fusion2023/lib/python3.11/site-packages/keras/applications/vgg16.py:137: UserWarning: This model usually expects 1 or 3 input channels. However, it was passed an input_shape with 6 input channels.\n",
      "  input_shape = imagenet_utils.obtain_input_shape(\n",
      "2023-06-13 11:21:43.515046: E tensorflow/compiler/xla/stream_executor/cuda/cuda_driver.cc:266] failed call to cuInit: CUDA_ERROR_NO_DEVICE: no CUDA-capable device is detected\n",
      "2023-06-13 11:21:43.515071: I tensorflow/compiler/xla/stream_executor/cuda/cuda_diagnostics.cc:168] retrieving CUDA diagnostic information for host: luca-laptop\n",
      "2023-06-13 11:21:43.515077: I tensorflow/compiler/xla/stream_executor/cuda/cuda_diagnostics.cc:175] hostname: luca-laptop\n",
      "2023-06-13 11:21:43.515128: I tensorflow/compiler/xla/stream_executor/cuda/cuda_diagnostics.cc:199] libcuda reported version is: 520.61.5\n",
      "2023-06-13 11:21:43.515147: I tensorflow/compiler/xla/stream_executor/cuda/cuda_diagnostics.cc:203] kernel reported version is: 520.61.5\n",
      "2023-06-13 11:21:43.515151: I tensorflow/compiler/xla/stream_executor/cuda/cuda_diagnostics.cc:309] kernel version seems to match DSO: 520.61.5\n"
     ]
    }
   ],
   "source": [
    "# instance of the model\n",
    "cnn_handler = FusionWithVGG(**cnn_configuration)\n",
    "\n",
    "# create a late fusion\n",
    "cnn_handler.early_fusion()"
   ],
   "metadata": {
    "collapsed": false
   }
  },
  {
   "cell_type": "code",
   "execution_count": 9,
   "outputs": [],
   "source": [
    "cnn_handler.plot_the_model(\"cnn_early_fusion.png\")\n",
    "Image('images/cnn_early_fusion.png')"
   ],
   "metadata": {
    "collapsed": false
   }
  },
  {
   "cell_type": "markdown",
   "source": [
    "The model is trained on the “train” dataset  and “validation” dataset for 10 epochs."
   ],
   "metadata": {
    "collapsed": false
   }
  },
  {
   "cell_type": "code",
   "execution_count": 10,
   "outputs": [
    {
     "name": "stdout",
     "output_type": "stream",
     "text": [
      "Epoch 1/10\n",
      "100/100 [==============================] - 78s 774ms/step - loss: 0.6178 - accuracy: 0.2537 - val_loss: 0.6210 - val_accuracy: 0.2953\n",
      "Epoch 2/10\n",
      "100/100 [==============================] - 80s 797ms/step - loss: 0.4589 - accuracy: 0.5350 - val_loss: 0.3463 - val_accuracy: 0.7921\n",
      "Epoch 3/10\n",
      "100/100 [==============================] - 81s 814ms/step - loss: 0.3502 - accuracy: 0.7390 - val_loss: 0.3072 - val_accuracy: 0.7327\n",
      "Epoch 4/10\n",
      "100/100 [==============================] - 81s 809ms/step - loss: 0.3038 - accuracy: 0.7672 - val_loss: 0.2749 - val_accuracy: 0.8079\n",
      "Epoch 5/10\n",
      "100/100 [==============================] - 82s 818ms/step - loss: 0.2727 - accuracy: 0.7945 - val_loss: 0.2772 - val_accuracy: 0.8290\n",
      "Epoch 6/10\n",
      "100/100 [==============================] - 81s 808ms/step - loss: 0.2331 - accuracy: 0.8222 - val_loss: 0.2648 - val_accuracy: 0.8219\n",
      "Epoch 7/10\n",
      "100/100 [==============================] - 80s 805ms/step - loss: 0.2186 - accuracy: 0.8411 - val_loss: 0.2449 - val_accuracy: 0.8511\n",
      "Epoch 8/10\n",
      "100/100 [==============================] - 81s 814ms/step - loss: 0.1954 - accuracy: 0.8541 - val_loss: 0.1918 - val_accuracy: 0.8637\n",
      "Epoch 9/10\n",
      "100/100 [==============================] - 82s 822ms/step - loss: 0.1793 - accuracy: 0.8647 - val_loss: 0.2093 - val_accuracy: 0.8872\n",
      "Epoch 10/10\n",
      "100/100 [==============================] - 81s 812ms/step - loss: 0.1685 - accuracy: 0.8757 - val_loss: 0.2026 - val_accuracy: 0.8698\n"
     ]
    }
   ],
   "source": [
    "# fit the model\n",
    "cnn_handler.fit_the_model(x_train=dictionary_of_training,\n",
    "                          y_train=train_labels,\n",
    "                          x_validation=dictionary_of_validation,\n",
    "                          y_validation=validation_labels,\n",
    "                          epochs=configuration[\"epochs\"])\n"
   ],
   "metadata": {
    "collapsed": false
   }
  },
  {
   "cell_type": "markdown",
   "source": [
    "The model is evaluated on the test dataset."
   ],
   "metadata": {
    "collapsed": false
   }
  },
  {
   "cell_type": "code",
   "execution_count": 11,
   "outputs": [
    {
     "name": "stdout",
     "output_type": "stream",
     "text": [
      "4/4 [==============================] - 9s 2s/step - loss: 0.1607 - accuracy: 0.8680\n",
      "[SCORES] The score is 86.80444955825806\n"
     ]
    }
   ],
   "source": [
    "# evaluate the model\n",
    "cnn_handler.evaluate_the_model(x_test=dictionary_of_test,\n",
    "                               y_test=test_labels)\n"
   ],
   "metadata": {
    "collapsed": false
   }
  },
  {
   "cell_type": "markdown",
   "source": [
    "The model make prediction with the test dataset that is not seen during the training phase."
   ],
   "metadata": {
    "collapsed": false
   }
  },
  {
   "cell_type": "code",
   "execution_count": 12,
   "outputs": [
    {
     "name": "stdout",
     "output_type": "stream",
     "text": [
      "4/4 [==============================] - 9s 2s/step\n"
     ]
    }
   ],
   "source": [
    "# predict\n",
    "final_predictions = cnn_handler.make_predictions(x_test=dictionary_of_test)\n"
   ],
   "metadata": {
    "collapsed": false
   }
  },
  {
   "cell_type": "markdown",
   "source": [
    "The predicted array is converted to images and is shown."
   ],
   "metadata": {
    "collapsed": false
   }
  },
  {
   "cell_type": "code",
   "execution_count": 13,
   "outputs": [
    {
     "name": "stdout",
     "output_type": "stream",
     "text": [
      "[COUNT] The class count is [50176, 17699, 50176, 50176, 50176, 50176]\n",
      "[COUNT] The class count is [50176, 13797, 50176, 50176, 50176, 50176]\n",
      "[COUNT] The class count is [50176, 15971, 50176, 50176, 50176, 50176]\n",
      "[COUNT] The class count is [50176, 17924, 50176, 50176, 50176, 50176]\n",
      "[COUNT] The class count is [50176, 14411, 50176, 50176, 50176, 50176]\n",
      "[COUNT] The class count is [50176, 23653, 50176, 50176, 50176, 50176]\n",
      "[COUNT] The class count is [50176, 13316, 50176, 50176, 50176, 50176]\n",
      "[COUNT] The class count is [50176, 15816, 50176, 50176, 50176, 50176]\n",
      "[COUNT] The class count is [50176, 15264, 50176, 50176, 50176, 50176]\n",
      "[COUNT] The class count is [50176, 12689, 50176, 50176, 50176, 50176]\n",
      "[COUNT] The class count is [50176, 14583, 50176, 50176, 50176, 50176]\n",
      "[COUNT] The class count is [50176, 15674, 50176, 50176, 50176, 50176]\n",
      "[COUNT] The class count is [50176, 15836, 50176, 50176, 50176, 50176]\n",
      "[COUNT] The class count is [50176, 9657, 50176, 50176, 50176, 50176]\n",
      "[COUNT] The class count is [50176, 12922, 50176, 50176, 50176, 50176]\n",
      "[COUNT] The class count is [50176, 13045, 50176, 50176, 50176, 50176]\n",
      "[COUNT] The class count is [50176, 7917, 50176, 50176, 50176, 50176]\n",
      "[COUNT] The class count is [50176, 12127, 50176, 50176, 50176, 50176]\n",
      "[COUNT] The class count is [50176, 23188, 50176, 50176, 50176, 50176]\n",
      "[COUNT] The class count is [50176, 20416, 50176, 50176, 50176, 50176]\n",
      "[COUNT] The class count is [50176, 16517, 50176, 50176, 50176, 50176]\n",
      "[COUNT] The class count is [50176, 16184, 50176, 50176, 50176, 50176]\n",
      "[COUNT] The class count is [50176, 16930, 50176, 50176, 50176, 50176]\n",
      "[COUNT] The class count is [50176, 14078, 50176, 50176, 50176, 50176]\n",
      "[COUNT] The class count is [50176, 25656, 50176, 50176, 50176, 50176]\n",
      "[COUNT] The class count is [50176, 16605, 50176, 50176, 50176, 50176]\n",
      "[COUNT] The class count is [50176, 18184, 50176, 50176, 50176, 50176]\n",
      "[COUNT] The class count is [50176, 13301, 50176, 50176, 50176, 50176]\n",
      "[COUNT] The class count is [50176, 13389, 50176, 50176, 50176, 50176]\n",
      "[COUNT] The class count is [50176, 13648, 50176, 50176, 50176, 50176]\n",
      "[COUNT] The class count is [50176, 8193, 50176, 50176, 50176, 50176]\n",
      "[COUNT] The class count is [50176, 27584, 50176, 50176, 50176, 50176]\n",
      "[COUNT] The class count is [50176, 16204, 50176, 50176, 50176, 50176]\n",
      "[COUNT] The class count is [50176, 14310, 50176, 50176, 50176, 50176]\n",
      "[COUNT] The class count is [50176, 18881, 50176, 50176, 50176, 50176]\n",
      "[COUNT] The class count is [50176, 14055, 50176, 50176, 50176, 50176]\n",
      "[COUNT] The class count is [50176, 14143, 50176, 50176, 50176, 50176]\n",
      "[COUNT] The class count is [50176, 17572, 50176, 50176, 50176, 50176]\n",
      "[COUNT] The class count is [50176, 9060, 50176, 50176, 50176, 50176]\n",
      "[COUNT] The class count is [50176, 16251, 50176, 50176, 50176, 50176]\n",
      "[COUNT] The class count is [50176, 14572, 50176, 50176, 50176, 50176]\n",
      "[COUNT] The class count is [50176, 23838, 50176, 50176, 50176, 50176]\n",
      "[COUNT] The class count is [50176, 13121, 50176, 50176, 50176, 50176]\n",
      "[COUNT] The class count is [50176, 14555, 50176, 50176, 50176, 50176]\n",
      "[COUNT] The class count is [50176, 18412, 50176, 50176, 50176, 50176]\n",
      "[COUNT] The class count is [50176, 13493, 50176, 50176, 50176, 50176]\n",
      "[COUNT] The class count is [50176, 12706, 50176, 50176, 50176, 50176]\n",
      "[COUNT] The class count is [50176, 15308, 50176, 50176, 50176, 50176]\n",
      "[COUNT] The class count is [50176, 12627, 50176, 50176, 50176, 50176]\n",
      "[COUNT] The class count is [50176, 15790, 50176, 50176, 50176, 50176]\n",
      "[COUNT] The class count is [50176, 15758, 50176, 50176, 50176, 50176]\n",
      "[COUNT] The class count is [50176, 10600, 50176, 50176, 50176, 50176]\n",
      "[COUNT] The class count is [50176, 15976, 50176, 50176, 50176, 50176]\n",
      "[COUNT] The class count is [50176, 15814, 50176, 50176, 50176, 50176]\n",
      "[COUNT] The class count is [50176, 12788, 50176, 50176, 50176, 50176]\n",
      "[COUNT] The class count is [50176, 11888, 50176, 50176, 50176, 50176]\n",
      "[COUNT] The class count is [50176, 23324, 50176, 50176, 50176, 50176]\n",
      "[COUNT] The class count is [50176, 7641, 50176, 50176, 50176, 50176]\n",
      "[COUNT] The class count is [50176, 11528, 50176, 50176, 50176, 50176]\n",
      "[COUNT] The class count is [50176, 20737, 50176, 50176, 50176, 50176]\n",
      "[COUNT] The class count is [50176, 16153, 50176, 50176, 50176, 50176]\n",
      "[COUNT] The class count is [50176, 13693, 50176, 50176, 50176, 50176]\n",
      "[COUNT] The class count is [50176, 13435, 50176, 50176, 50176, 50176]\n",
      "[COUNT] The class count is [50176, 18949, 50176, 50176, 50176, 50176]\n",
      "[COUNT] The class count is [50176, 14611, 50176, 50176, 50176, 50176]\n",
      "[COUNT] The class count is [50176, 13920, 50176, 50176, 50176, 50176]\n",
      "[COUNT] The class count is [50176, 13133, 50176, 50176, 50176, 50176]\n",
      "[COUNT] The class count is [50176, 23134, 50176, 50176, 50176, 50176]\n",
      "[COUNT] The class count is [50176, 14236, 50176, 50176, 50176, 50176]\n",
      "[COUNT] The class count is [50176, 15180, 50176, 50176, 50176, 50176]\n",
      "[COUNT] The class count is [50176, 15071, 50176, 50176, 50176, 50176]\n",
      "[COUNT] The class count is [50176, 24908, 50176, 50176, 50176, 50176]\n",
      "[COUNT] The class count is [50176, 23518, 50176, 50176, 50176, 50176]\n",
      "[COUNT] The class count is [50176, 14404, 50176, 50176, 50176, 50176]\n",
      "[COUNT] The class count is [50176, 15176, 50176, 50176, 50176, 50176]\n",
      "[COUNT] The class count is [50176, 25528, 50176, 50176, 50176, 50176]\n",
      "[COUNT] The class count is [50176, 15673, 50176, 50176, 50176, 50176]\n",
      "[COUNT] The class count is [50176, 19594, 50176, 50176, 50176, 50176]\n",
      "[COUNT] The class count is [50176, 12640, 50176, 50176, 50176, 50176]\n",
      "[COUNT] The class count is [50176, 21417, 50176, 50176, 50176, 50176]\n",
      "[COUNT] The class count is [50176, 14025, 50176, 50176, 50176, 50176]\n",
      "[COUNT] The class count is [50176, 21277, 50176, 50176, 50176, 50176]\n",
      "[COUNT] The class count is [50176, 12963, 50176, 50176, 50176, 50176]\n",
      "[COUNT] The class count is [50176, 11748, 50176, 50176, 50176, 50176]\n",
      "[COUNT] The class count is [50176, 16415, 50176, 50176, 50176, 50176]\n",
      "[COUNT] The class count is [50176, 18324, 50176, 50176, 50176, 50176]\n",
      "[COUNT] The class count is [50176, 18482, 50176, 50176, 50176, 50176]\n",
      "[COUNT] The class count is [50176, 21792, 50176, 50176, 50176, 50176]\n",
      "[COUNT] The class count is [50176, 18973, 50176, 50176, 50176, 50176]\n",
      "[COUNT] The class count is [50176, 17605, 50176, 50176, 50176, 50176]\n",
      "[COUNT] The class count is [50176, 15467, 50176, 50176, 50176, 50176]\n",
      "[COUNT] The class count is [50176, 13625, 50176, 50176, 50176, 50176]\n",
      "[COUNT] The class count is [50176, 14259, 50176, 50176, 50176, 50176]\n",
      "[COUNT] The class count is [50176, 20826, 50176, 50176, 50176, 50176]\n",
      "[COUNT] The class count is [50176, 19259, 50176, 50176, 50176, 50176]\n",
      "[COUNT] The class count is [50176, 15304, 50176, 50176, 50176, 50176]\n",
      "[COUNT] The class count is [50176, 17084, 50176, 50176, 50176, 50176]\n",
      "[COUNT] The class count is [50176, 10474, 50176, 50176, 50176, 50176]\n",
      "[COUNT] The class count is [50176, 14422, 50176, 50176, 50176, 50176]\n",
      "[COUNT] The class count is [50176, 16455, 50176, 50176, 50176, 50176]\n"
     ]
    },
    {
     "ename": "Exception",
     "evalue": "[EXCEPTION] how many images parameter should be divisible by 2",
     "output_type": "error",
     "traceback": [
      "\u001B[0;31m---------------------------------------------------------------------------\u001B[0m",
      "\u001B[0;31mException\u001B[0m                                 Traceback (most recent call last)",
      "Cell \u001B[0;32mIn[13], line 13\u001B[0m\n\u001B[1;32m     10\u001B[0m     final_list_of_results\u001B[38;5;241m.\u001B[39mappend(temp)\n\u001B[1;32m     12\u001B[0m \u001B[38;5;66;03m# now plot here the images\u001B[39;00m\n\u001B[0;32m---> 13\u001B[0m utilities\u001B[38;5;241m.\u001B[39mplot_some_images(how_many_images\u001B[38;5;241m=\u001B[39m\u001B[38;5;241m9\u001B[39m, list_of_element_to_plot\u001B[38;5;241m=\u001B[39mfinal_list_of_results)\n",
      "File \u001B[0;32m~/Documents/Tutorial-Fusion2023/sample_codes/Utilities/utilities.py:121\u001B[0m, in \u001B[0;36mCNNUtilities.plot_some_images\u001B[0;34m(self, how_many_images, list_of_element_to_plot)\u001B[0m\n\u001B[1;32m    119\u001B[0m \u001B[38;5;28;01mdef\u001B[39;00m \u001B[38;5;21mplot_some_images\u001B[39m(\u001B[38;5;28mself\u001B[39m, how_many_images: \u001B[38;5;28mint\u001B[39m, list_of_element_to_plot) \u001B[38;5;241m-\u001B[39m\u001B[38;5;241m>\u001B[39m \u001B[38;5;28;01mNone\u001B[39;00m:\n\u001B[1;32m    120\u001B[0m     \u001B[38;5;28;01mif\u001B[39;00m how_many_images \u001B[38;5;241m%\u001B[39m \u001B[38;5;241m2\u001B[39m \u001B[38;5;241m!=\u001B[39m \u001B[38;5;241m0\u001B[39m:\n\u001B[0;32m--> 121\u001B[0m         \u001B[38;5;28;01mraise\u001B[39;00m \u001B[38;5;167;01mException\u001B[39;00m(\u001B[38;5;124m\"\u001B[39m\u001B[38;5;124m[EXCEPTION] how many images parameter should be divisible by 2\u001B[39m\u001B[38;5;124m\"\u001B[39m)\n\u001B[1;32m    123\u001B[0m     f, ax \u001B[38;5;241m=\u001B[39m plt\u001B[38;5;241m.\u001B[39msubplots(how_many_images \u001B[38;5;241m/\u001B[39m\u001B[38;5;241m/\u001B[39m \u001B[38;5;241m2\u001B[39m, how_many_images \u001B[38;5;241m/\u001B[39m\u001B[38;5;241m/\u001B[39m \u001B[38;5;241m2\u001B[39m)\n\u001B[1;32m    124\u001B[0m     counter \u001B[38;5;241m=\u001B[39m \u001B[38;5;241m0\u001B[39m\n",
      "\u001B[0;31mException\u001B[0m: [EXCEPTION] how many images parameter should be divisible by 2"
     ]
    }
   ],
   "source": [
    "# loop into the prediction arrays and rebuilt the image\n",
    "final_list_of_results = list()\n",
    "\n",
    "for predicted_index in range(final_predictions.shape[0]):\n",
    "    temp = utilities.convert_the_prediction(prediction=final_predictions[predicted_index, :, :],\n",
    "                                            number_of_classes=len(segmentation_index),\n",
    "                                            height_of_predicted_image=h,\n",
    "                                            width_of_pred_image=w)\n",
    "    # append the result to list\n",
    "    final_list_of_results.append(temp)\n"
   ],
   "metadata": {
    "collapsed": false
   }
  },
  {
   "cell_type": "markdown",
   "source": [
    "Show first nine images"
   ],
   "metadata": {
    "collapsed": false
   }
  },
  {
   "cell_type": "code",
   "execution_count": 14,
   "outputs": [
    {
     "data": {
      "text/plain": "<Figure size 640x480 with 9 Axes>",
      "image/png": "[encoded data removed]"
     },
     "metadata": {},
     "output_type": "display_data"
    }
   ],
   "source": [
    "# now plot here the images\n",
    "utilities.plot_some_images(how_many_rows=3, how_many_cols=3, list_of_element_to_plot=final_list_of_results)"
   ],
   "metadata": {
    "collapsed": false
   }
  },
  {
   "cell_type": "code",
   "execution_count": null,
   "outputs": [],
   "source": [],
   "metadata": {
    "collapsed": false
   }
  }
 ],
 "metadata": {
  "kernelspec": {
   "display_name": "Python 3",
   "language": "python",
   "name": "python3"
  },
  "language_info": {
   "codemirror_mode": {
    "name": "ipython",
    "version": 3
   },
   "file_extension": ".py",
   "mimetype": "text/x-python",
   "name": "python",
   "nbconvert_exporter": "python",
   "pygments_lexer": "ipython3",
   "version": "3.11.3"
  }
 },
 "nbformat": 4,
 "nbformat_minor": 0
}
